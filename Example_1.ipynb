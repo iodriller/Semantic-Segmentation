{
 "cells": [
  {
   "cell_type": "code",
   "execution_count": null,
   "metadata": {
    "ExecuteTime": {
     "end_time": "2020-06-11T21:04:00.141497Z",
     "start_time": "2020-06-11T21:01:21.507499Z"
    }
   },
   "outputs": [],
   "source": [
    "from process_and_run import process_and_run\n",
    "\n",
    "youtube_link = \"<insert youtube link>\"\n",
    "    \n",
    "process_and_run().run(youtube_link)"
   ]
  }
 ],
 "metadata": {
  "kernelspec": {
   "display_name": "Python 3",
   "language": "python",
   "name": "python3"
  },
  "language_info": {
   "codemirror_mode": {
    "name": "ipython",
    "version": 3
   },
   "file_extension": ".py",
   "mimetype": "text/x-python",
   "name": "python",
   "nbconvert_exporter": "python",
   "pygments_lexer": "ipython3",
   "version": "3.7.6"
  }
 },
 "nbformat": 4,
 "nbformat_minor": 2
}
